{
 "cells": [
  {
   "cell_type": "code",
   "execution_count": 12,
   "metadata": {},
   "outputs": [],
   "source": [
    "import glob\n",
    "import numpy as np\n",
    "from PIL import Image\n",
    "import tensorflow as tf\n",
    "import matplotlib.pyplot as plt"
   ]
  },
  {
   "cell_type": "code",
   "execution_count": 13,
   "metadata": {},
   "outputs": [],
   "source": [
    "subfolder_names = glob.glob(\"David_Training\")\n",
    "\n",
    "# Load the images and labels\n",
    "X = []\n",
    "y = []\n",
    "size=(64,64)\n",
    "for subfolder_name in subfolder_names:\n",
    "    # Get the list of sub-subfolder names\n",
    "    subsubfolder_names = glob.glob(f\"{subfolder_name}/*\")\n",
    "\n",
    "    for subsubfolder_name in subsubfolder_names:\n",
    "        # Get the list of sub-sub-subfolder names\n",
    "        image_filenames = glob.glob(f\"{subsubfolder_name}/*\")\n",
    "\n",
    "\n",
    "        for filename in image_filenames:\n",
    "            # Load the image and convert it to grayscale\n",
    "            try:\n",
    "                image = Image.open(filename).convert(\"L\")\n",
    "                image=image.resize(size,Image.ANTIALIAS)\n",
    "            except:\n",
    "                # If there is an error, skip this image\n",
    "                continue\n",
    "\n",
    "            # Store the image and label in the arrays\n",
    "            X.append(np.array(image))\n",
    "            y.append(subsubfolder_name)\n",
    "\n",
    "# Convert the arrays to NumPy arrays\n",
    "train_data = np.array(X)\n",
    "train_labels = np.array(y)"
   ]
  },
  {
   "attachments": {},
   "cell_type": "markdown",
   "metadata": {},
   "source": [
    "Extract just the number as labels"
   ]
  },
  {
   "cell_type": "code",
   "execution_count": 14,
   "metadata": {},
   "outputs": [],
   "source": [
    "train_labels = [int(string[15:]) for string in train_labels]"
   ]
  },
  {
   "attachments": {},
   "cell_type": "markdown",
   "metadata": {},
   "source": [
    "Confirm all 27 classes exist"
   ]
  },
  {
   "cell_type": "code",
   "execution_count": 15,
   "metadata": {},
   "outputs": [
    {
     "data": {
      "text/plain": [
       "array([ 0,  1,  2,  3,  4,  5,  6,  7,  8,  9, 10, 11, 12, 13, 14, 15, 16,\n",
       "       17, 18, 19, 20, 21, 22, 23, 24, 25, 26])"
      ]
     },
     "execution_count": 15,
     "metadata": {},
     "output_type": "execute_result"
    }
   ],
   "source": [
    "train_labels=np.array(train_labels)\n",
    "np.unique(train_labels)"
   ]
  },
  {
   "attachments": {},
   "cell_type": "markdown",
   "metadata": {},
   "source": [
    "Test Set Pull"
   ]
  },
  {
   "cell_type": "code",
   "execution_count": 16,
   "metadata": {},
   "outputs": [],
   "source": [
    "# Get the list of subfolder names\n",
    "# Replace \"path/to/folder\" with the path to the main folder\n",
    "subfolder_names = glob.glob(\"David_Testing\")\n",
    "\n",
    "# Load the images and labels\n",
    "X = []\n",
    "y = []\n",
    "size=(64,64)\n",
    "for subfolder_name in subfolder_names:\n",
    "    # Get the list of sub-subfolder names\n",
    "    subsubfolder_names = glob.glob(f\"{subfolder_name}/*\")\n",
    "\n",
    "    for subsubfolder_name in subsubfolder_names:\n",
    "        # Get the list of sub-sub-subfolder names\n",
    "        image_filenames = glob.glob(f\"{subsubfolder_name}/*\")\n",
    "\n",
    "\n",
    "        for filename in image_filenames:\n",
    "            # Load the image and convert it to grayscale\n",
    "            try:\n",
    "                image = Image.open(filename).convert(\"L\")\n",
    "                image=image.resize(size,Image.ANTIALIAS)\n",
    "            except:\n",
    "                # If there is an error, skip this image\n",
    "                continue\n",
    "\n",
    "            # Store the image and label in the arrays\n",
    "            X.append(np.array(image))\n",
    "            y.append(subsubfolder_name)\n",
    "\n",
    "# Convert the arrays to NumPy arrays\n",
    "test_data = np.array(X)\n",
    "test_labels = np.array(y)"
   ]
  },
  {
   "cell_type": "code",
   "execution_count": 17,
   "metadata": {},
   "outputs": [],
   "source": [
    "test_labels = [int(string[14:]) for string in test_labels]"
   ]
  },
  {
   "cell_type": "code",
   "execution_count": 18,
   "metadata": {},
   "outputs": [
    {
     "data": {
      "text/plain": [
       "array([ 0,  1,  2,  3,  4,  5,  6,  7,  8,  9, 10, 11, 12, 13, 14, 15, 16,\n",
       "       17, 18, 19, 20, 21, 22, 23, 24, 25, 26])"
      ]
     },
     "execution_count": 18,
     "metadata": {},
     "output_type": "execute_result"
    }
   ],
   "source": [
    "test_labels=np.array(test_labels)\n",
    "np.unique(test_labels)"
   ]
  },
  {
   "attachments": {},
   "cell_type": "markdown",
   "metadata": {},
   "source": [
    "Model Archetitecture with two Convolutional Layers, first with 64 nodes, then with 128 nodes"
   ]
  },
  {
   "cell_type": "code",
   "execution_count": 19,
   "metadata": {},
   "outputs": [
    {
     "name": "stdout",
     "output_type": "stream",
     "text": [
      "Epoch 1/20\n",
      "17/17 [==============================] - 5s 236ms/step - loss: 46.2067 - accuracy: 0.0611\n",
      "Epoch 2/20\n",
      "17/17 [==============================] - 4s 227ms/step - loss: 3.2893 - accuracy: 0.0537\n",
      "Epoch 3/20\n",
      "17/17 [==============================] - 4s 229ms/step - loss: 3.2954 - accuracy: 0.0352\n",
      "Epoch 4/20\n",
      "17/17 [==============================] - 4s 229ms/step - loss: 3.2934 - accuracy: 0.0352\n",
      "Epoch 5/20\n",
      "17/17 [==============================] - 4s 230ms/step - loss: 2.9070 - accuracy: 0.1963\n",
      "Epoch 6/20\n",
      "17/17 [==============================] - 4s 249ms/step - loss: 2.0387 - accuracy: 0.4741\n",
      "Epoch 7/20\n",
      "17/17 [==============================] - 4s 245ms/step - loss: 1.3589 - accuracy: 0.6278\n",
      "Epoch 8/20\n",
      "17/17 [==============================] - 4s 228ms/step - loss: 0.9315 - accuracy: 0.7259\n",
      "Epoch 9/20\n",
      "17/17 [==============================] - 4s 229ms/step - loss: 0.6866 - accuracy: 0.8259\n",
      "Epoch 10/20\n",
      "17/17 [==============================] - 4s 229ms/step - loss: 0.4616 - accuracy: 0.8759\n",
      "Epoch 11/20\n",
      "17/17 [==============================] - 4s 237ms/step - loss: 0.4290 - accuracy: 0.9000\n",
      "Epoch 12/20\n",
      "17/17 [==============================] - 4s 234ms/step - loss: 0.4049 - accuracy: 0.8963\n",
      "Epoch 13/20\n",
      "17/17 [==============================] - 4s 233ms/step - loss: 0.2037 - accuracy: 0.9444\n",
      "Epoch 14/20\n",
      "17/17 [==============================] - 4s 243ms/step - loss: 0.1197 - accuracy: 0.9796\n",
      "Epoch 15/20\n",
      "17/17 [==============================] - 4s 227ms/step - loss: 0.0834 - accuracy: 0.9759\n",
      "Epoch 16/20\n",
      "17/17 [==============================] - 4s 228ms/step - loss: 0.0486 - accuracy: 0.9852\n",
      "Epoch 17/20\n",
      "17/17 [==============================] - 4s 230ms/step - loss: 0.0326 - accuracy: 0.9926\n",
      "Epoch 18/20\n",
      "17/17 [==============================] - 4s 230ms/step - loss: 0.0200 - accuracy: 0.9981\n",
      "Epoch 19/20\n",
      "17/17 [==============================] - 4s 234ms/step - loss: 0.0147 - accuracy: 0.9963\n",
      "Epoch 20/20\n",
      "17/17 [==============================] - 4s 229ms/step - loss: 0.0116 - accuracy: 1.0000\n",
      "3/3 [==============================] - 0s 65ms/step - loss: 5.0456 - accuracy: 0.4444\n",
      "Test accuracy: 0.4444444477558136\n"
     ]
    }
   ],
   "source": [
    "# Define the model architecture\n",
    "model = tf.keras.Sequential()\n",
    "model.add(tf.keras.layers.Conv2D(128, (3, 3), activation='relu', input_shape=(64, 64, 1)))\n",
    "model.add(tf.keras.layers.MaxPooling2D((2, 2)))\n",
    "model.add(tf.keras.layers.Conv2D(128, (3, 3), activation='relu', input_shape=(64, 64, 1)))\n",
    "model.add(tf.keras.layers.MaxPooling2D((2, 2)))\n",
    "model.add(tf.keras.layers.Flatten())\n",
    "model.add(tf.keras.layers.Dense(27, activation='softmax'))\n",
    "\n",
    "# Compile the model\n",
    "model.compile(optimizer='adam',\n",
    "              loss='sparse_categorical_crossentropy',\n",
    "              metrics=['accuracy'])\n",
    "\n",
    "# Train the model\n",
    "history = model.fit(train_data, train_labels, epochs=15)\n",
    "\n",
    "# Evaluate the model on the test set\n",
    "test_loss, test_acc = model.evaluate(test_data, test_labels)\n",
    "print('Test accuracy:', test_acc)\n"
   ]
  },
  {
   "attachments": {},
   "cell_type": "markdown",
   "metadata": {},
   "source": [
    "loss vs accuracy"
   ]
  },
  {
   "cell_type": "code",
   "execution_count": 20,
   "metadata": {},
   "outputs": [
    {
     "data": {
      "image/png": "[encoded data removed]",
      "text/plain": [
       "<Figure size 640x480 with 1 Axes>"
      ]
     },
     "metadata": {},
     "output_type": "display_data"
    }
   ],
   "source": [
    "\n",
    "# Create the plot\n",
    "plt.plot(history.history['loss'])\n",
    "plt.plot(history.history['accuracy'])\n",
    "\n",
    "# Add a legend\n",
    "plt.legend(['loss', 'accuracy'])\n",
    "\n",
    "# Show the plot\n",
    "plt.show()"
   ]
  },
  {
   "attachments": {},
   "cell_type": "markdown",
   "metadata": {},
   "source": [
    "Individual test"
   ]
  },
  {
   "cell_type": "code",
   "execution_count": 21,
   "metadata": {},
   "outputs": [
    {
     "name": "stdout",
     "output_type": "stream",
     "text": [
      "1/1 [==============================] - 0s 84ms/step\n",
      "[[1.32293287e-10 6.84541519e-05 3.84986745e-29 2.37107156e-09\n",
      "  1.19536135e-05 2.61958514e-04 2.03488341e-07 6.32513859e-16\n",
      "  1.73014741e-23 6.11905846e-25 1.82074409e-08 3.73862682e-15\n",
      "  3.80972467e-12 4.08053218e-08 1.08466083e-02 2.18807993e-11\n",
      "  7.41772616e-11 5.76209786e-05 1.85608429e-09 9.83352125e-01\n",
      "  4.92965340e-15 4.69804473e-11 3.04399596e-11 5.33432979e-03\n",
      "  1.89788655e-13 6.66899650e-05 2.39839276e-14]]\n"
     ]
    }
   ],
   "source": [
    "# Load the drawing and convert it to grayscale\n",
    "drawing = Image.open(\"Untitled.png\").convert(\"L\")\n",
    "drawing=drawing.resize(size,Image.ANTIALIAS)\n",
    "\n",
    "# Convert the drawing to a numpy array\n",
    "drawing = np.array(drawing)\n",
    "drawing = np.expand_dims(drawing, axis=0)\n",
    "drawing = np.expand_dims(drawing, axis=-1)\n",
    "\n",
    "# Make a prediction using the model\n",
    "prediction = model.predict(drawing)\n",
    "\n",
    "# Get the class with the highest probability\n",
    "predicted_class = np.argmax(prediction)\n",
    "print(prediction)"
   ]
  },
  {
   "attachments": {},
   "cell_type": "markdown",
   "metadata": {},
   "source": [
    "Class predictor and output"
   ]
  },
  {
   "cell_type": "code",
   "execution_count": 22,
   "metadata": {},
   "outputs": [
    {
     "name": "stdout",
     "output_type": "stream",
     "text": [
      "19\n",
      "Pei\n"
     ]
    }
   ],
   "source": [
    "dict= {\n",
    "    0: \"Aleph\",\n",
    "    1: \"Bet\",\n",
    "    2: \"Gimel\",\n",
    "    3: \"Dalet\",\n",
    "    4: \"Hei\",\n",
    "    5: \"Vav\",\n",
    "    6: \"Zayin\",\n",
    "    7: \"Chet\",\n",
    "    8: \"Tet\",\n",
    "    9: \"Yod\",\n",
    "    10: \"Kaf\",\n",
    "    11: \"Kaf Sofit\",\n",
    "    12: \"Lamed\",\n",
    "    13: \"Mem\",\n",
    "    14: \"Mem Sofit\",\n",
    "    15: \"Nun\",\n",
    "    16: \"Nun Sofit\",\n",
    "    17: \"Samech\",\n",
    "    18: \"Ayin\",\n",
    "    19: \"Pei\",\n",
    "    20: \"Pei Sofit\",\n",
    "    21: \"Tsadei\",\n",
    "    22: \"Tsadei Sofit\",\n",
    "    23: \"Qof\",\n",
    "    24: \"Resh\",\n",
    "    25: \"Shin\",\n",
    "    26: \"Tav\",\n",
    "}\n",
    "\n",
    "print(predicted_class)\n",
    "print(dict[predicted_class])"
   ]
  }
 ],
 "metadata": {
  "kernelspec": {
   "display_name": "Python 3.8.0 64-bit",
   "language": "python",
   "name": "python3"
  },
  "language_info": {
   "codemirror_mode": {
    "name": "ipython",
    "version": 3
   },
   "file_extension": ".py",
   "mimetype": "text/x-python",
   "name": "python",
   "nbconvert_exporter": "python",
   "pygments_lexer": "ipython3",
   "version": "3.8.0"
  },
  "orig_nbformat": 4,
  "vscode": {
   "interpreter": {
    "hash": "aee8b7b246df8f9039afb4144a1f6fd8d2ca17a180786b69acc140d282b71a49"
   }
  }
 },
 "nbformat": 4,
 "nbformat_minor": 2
}
