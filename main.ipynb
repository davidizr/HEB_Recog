{
 "cells": [
  {
   "attachments": {},
   "cell_type": "markdown",
   "metadata": {},
   "source": [
    "Library Imports"
   ]
  },
  {
   "cell_type": "code",
   "execution_count": 1,
   "metadata": {},
   "outputs": [
    {
     "name": "stderr",
     "output_type": "stream",
     "text": [
      "2023-03-10 09:59:53.662306: I tensorflow/core/platform/cpu_feature_guard.cc:193] This TensorFlow binary is optimized with oneAPI Deep Neural Network Library (oneDNN) to use the following CPU instructions in performance-critical operations:  AVX2 FMA\n",
      "To enable them in other operations, rebuild TensorFlow with the appropriate compiler flags.\n"
     ]
    }
   ],
   "source": [
    "import glob\n",
    "import numpy as np\n",
    "import PIL\n",
    "from PIL import Image\n",
    "import tensorflow as tf\n",
    "import matplotlib.pyplot as plt"
   ]
  },
  {
   "cell_type": "code",
   "execution_count": 2,
   "metadata": {},
   "outputs": [],
   "source": [
    "subfolder_names = glob.glob(\"David_Training\")\n",
    "\n",
    "X = []\n",
    "y = []\n",
    "size=(64,64)\n",
    "\n",
    "for subfolder_name in subfolder_names:\n",
    "    subsubfolder_names = glob.glob(f\"{subfolder_name}/*\")\n",
    "\n",
    "    for subsubfolder_name in subsubfolder_names:\n",
    "        image_filenames = glob.glob(f\"{subsubfolder_name}/*\")\n",
    "\n",
    "        for filename in image_filenames:\n",
    "            # L=Grayscale\n",
    "            try:\n",
    "                image = Image.open(filename).convert(\"L\")\n",
    "                image=image.resize(size,Image.ANTIALIAS)\n",
    "            except:\n",
    "                continue\n",
    "            X.append(np.array(image))\n",
    "            y.append(subsubfolder_name)\n",
    "        \n",
    "train_data = np.array(X)\n",
    "train_labels = np.array(y)"
   ]
  },
  {
   "attachments": {},
   "cell_type": "markdown",
   "metadata": {},
   "source": [
    "Extract just the number as labels"
   ]
  },
  {
   "cell_type": "code",
   "execution_count": 3,
   "metadata": {},
   "outputs": [],
   "source": [
    "train_labels = [int(string[15:]) for string in train_labels]"
   ]
  },
  {
   "attachments": {},
   "cell_type": "markdown",
   "metadata": {},
   "source": [
    "Confirm all 27 classes exist"
   ]
  },
  {
   "cell_type": "code",
   "execution_count": 4,
   "metadata": {},
   "outputs": [
    {
     "data": {
      "text/plain": [
       "array([ 0,  1,  2,  3,  4,  5,  6,  7,  8,  9, 10, 11, 12, 13, 14, 15, 16,\n",
       "       17, 18, 19, 20, 21, 22, 23, 24, 25, 26])"
      ]
     },
     "execution_count": 4,
     "metadata": {},
     "output_type": "execute_result"
    }
   ],
   "source": [
    "train_labels=np.array(train_labels)\n",
    "np.unique(train_labels)"
   ]
  },
  {
   "attachments": {},
   "cell_type": "markdown",
   "metadata": {},
   "source": [
    "Test Set Pull"
   ]
  },
  {
   "cell_type": "code",
   "execution_count": 5,
   "metadata": {},
   "outputs": [],
   "source": [
    "subfolder_names = glob.glob(\"David_Testing\")\n",
    "\n",
    "X = []\n",
    "y = []\n",
    "size=(64,64)\n",
    "for subfolder_name in subfolder_names:\n",
    "    subsubfolder_names = glob.glob(f\"{subfolder_name}/*\")\n",
    "\n",
    "    for subsubfolder_name in subsubfolder_names:\n",
    "        image_filenames = glob.glob(f\"{subsubfolder_name}/*\")\n",
    "        for filename in image_filenames:\n",
    "            # L=Grayscale\n",
    "            try:\n",
    "                image = Image.open(filename).convert(\"L\")\n",
    "                image=image.resize(size,Image.ANTIALIAS)\n",
    "            except:\n",
    "                continue\n",
    "            X.append(np.array(image))\n",
    "            y.append(subsubfolder_name)\n",
    "\n",
    "test_data = np.array(X)\n",
    "test_labels = np.array(y)"
   ]
  },
  {
   "attachments": {},
   "cell_type": "markdown",
   "metadata": {},
   "source": [
    "Extract Labels"
   ]
  },
  {
   "cell_type": "code",
   "execution_count": 6,
   "metadata": {},
   "outputs": [],
   "source": [
    "test_labels = [int(string[14:]) for string in test_labels]"
   ]
  },
  {
   "attachments": {},
   "cell_type": "markdown",
   "metadata": {},
   "source": [
    "Confirm Labels"
   ]
  },
  {
   "cell_type": "code",
   "execution_count": 7,
   "metadata": {},
   "outputs": [
    {
     "data": {
      "text/plain": [
       "array([ 0,  1,  2,  3,  4,  5,  6,  7,  8,  9, 10, 11, 12, 13, 14, 15, 16,\n",
       "       17, 18, 19, 20, 21, 22, 23, 24, 25, 26])"
      ]
     },
     "execution_count": 7,
     "metadata": {},
     "output_type": "execute_result"
    }
   ],
   "source": [
    "test_labels=np.array(test_labels)\n",
    "np.unique(test_labels)"
   ]
  },
  {
   "attachments": {},
   "cell_type": "markdown",
   "metadata": {},
   "source": [
    "Model Archetitecture with three Convolutional Layers, first with 16 nodes, second with 32 nodes, then with 64 nodes"
   ]
  },
  {
   "cell_type": "code",
   "execution_count": 8,
   "metadata": {},
   "outputs": [
    {
     "name": "stderr",
     "output_type": "stream",
     "text": [
      "2023-03-10 10:00:06.270278: I tensorflow/core/platform/cpu_feature_guard.cc:193] This TensorFlow binary is optimized with oneAPI Deep Neural Network Library (oneDNN) to use the following CPU instructions in performance-critical operations:  AVX2 FMA\n",
      "To enable them in other operations, rebuild TensorFlow with the appropriate compiler flags.\n"
     ]
    },
    {
     "name": "stdout",
     "output_type": "stream",
     "text": [
      "Epoch 1/15\n",
      "17/17 [==============================] - 3s 61ms/step - loss: 3.2885 - accuracy: 0.0574\n",
      "Epoch 2/15\n",
      "17/17 [==============================] - 1s 56ms/step - loss: 3.0056 - accuracy: 0.2056\n",
      "Epoch 3/15\n",
      "17/17 [==============================] - 1s 59ms/step - loss: 2.1726 - accuracy: 0.4296\n",
      "Epoch 4/15\n",
      "17/17 [==============================] - 1s 66ms/step - loss: 1.4804 - accuracy: 0.6111\n",
      "Epoch 5/15\n",
      "17/17 [==============================] - 1s 72ms/step - loss: 0.9406 - accuracy: 0.7537\n",
      "Epoch 6/15\n",
      "17/17 [==============================] - 1s 51ms/step - loss: 0.6147 - accuracy: 0.8407\n",
      "Epoch 7/15\n",
      "17/17 [==============================] - 1s 58ms/step - loss: 0.3502 - accuracy: 0.9222\n",
      "Epoch 8/15\n",
      "17/17 [==============================] - 1s 51ms/step - loss: 0.1783 - accuracy: 0.9685\n",
      "Epoch 9/15\n",
      "17/17 [==============================] - 1s 53ms/step - loss: 0.1141 - accuracy: 0.9704\n",
      "Epoch 10/15\n",
      "17/17 [==============================] - 1s 52ms/step - loss: 0.0568 - accuracy: 0.9889\n",
      "Epoch 11/15\n",
      "17/17 [==============================] - 1s 52ms/step - loss: 0.0304 - accuracy: 0.9926\n",
      "Epoch 12/15\n",
      "17/17 [==============================] - 1s 57ms/step - loss: 0.0148 - accuracy: 1.0000\n",
      "Epoch 13/15\n",
      "17/17 [==============================] - 1s 52ms/step - loss: 0.0082 - accuracy: 1.0000\n",
      "Epoch 14/15\n",
      "17/17 [==============================] - 1s 54ms/step - loss: 0.0037 - accuracy: 1.0000\n",
      "Epoch 15/15\n",
      "17/17 [==============================] - 1s 51ms/step - loss: 0.0024 - accuracy: 1.0000\n",
      "3/3 [==============================] - 0s 18ms/step - loss: 0.8564 - accuracy: 0.8025\n",
      "Test accuracy: 0.8024691343307495\n"
     ]
    }
   ],
   "source": [
    "# Define the model architecture\n",
    "model = tf.keras.Sequential()\n",
    "model.add(tf.keras.layers.Rescaling(1./255, input_shape=(64, 64, 1)))\n",
    "model.add(tf.keras.layers.Conv2D(16, 3, activation='relu'))\n",
    "model.add(tf.keras.layers.MaxPooling2D())\n",
    "model.add(tf.keras.layers.Conv2D(32, 3, activation='relu'))\n",
    "model.add(tf.keras.layers.MaxPooling2D())\n",
    "model.add(tf.keras.layers.Conv2D(64, 3, activation='relu'))\n",
    "model.add(tf.keras.layers.MaxPooling2D())\n",
    "model.add(tf.keras.layers.Flatten())\n",
    "model.add(tf.keras.layers.Dense(128, activation='relu'))\n",
    "model.add(tf.keras.layers.Dense(27))\n",
    "\n",
    "# Compile the model\n",
    "model.compile(optimizer='adam',\n",
    "              loss=tf.keras.losses.SparseCategoricalCrossentropy(from_logits=True),\n",
    "              metrics=['accuracy'])\n",
    "\n",
    "# Train the model\n",
    "history = model.fit(train_data, train_labels, epochs=15)\n",
    "\n",
    "# Evaluate the model on the test set\n",
    "test_loss, test_acc = model.evaluate(test_data, test_labels)\n",
    "print('Test accuracy:', test_acc)\n"
   ]
  },
  {
   "attachments": {},
   "cell_type": "markdown",
   "metadata": {},
   "source": [
    "loss vs accuracy"
   ]
  },
  {
   "cell_type": "code",
   "execution_count": 9,
   "metadata": {},
   "outputs": [
    {
     "data": {
      "image/png": "[encoded data removed]",
      "text/plain": [
       "<Figure size 640x480 with 1 Axes>"
      ]
     },
     "metadata": {},
     "output_type": "display_data"
    }
   ],
   "source": [
    "\n",
    "plt.plot(history.history['loss'])\n",
    "plt.plot(history.history['accuracy'])\n",
    "\n",
    "plt.legend(['loss', 'accuracy'])\n",
    "\n",
    "plt.show()"
   ]
  },
  {
   "attachments": {},
   "cell_type": "markdown",
   "metadata": {},
   "source": [
    "Individual test"
   ]
  },
  {
   "cell_type": "code",
   "execution_count": 10,
   "metadata": {},
   "outputs": [
    {
     "name": "stdout",
     "output_type": "stream",
     "text": [
      "1/1 [==============================] - 0s 135ms/step\n",
      "[[ -3.99276     -1.5246437   -1.4998921    0.10781963  -7.0455194\n",
      "   13.646378     8.91462    -14.728527     1.474526     1.3420166\n",
      "   -8.042437    -8.801288     9.217416     3.8953028   -4.260526\n",
      "   21.797606    -3.3469994  -12.155468    -8.040559    -1.3620666\n",
      "    2.7508688    0.15334384   3.2918856   -9.043776   -16.25212\n",
      "   -2.3400943   -3.0069654 ]]\n"
     ]
    }
   ],
   "source": [
    "drawing = Image.open(\"Untitled.png\").convert(\"L\")\n",
    "drawing=drawing.resize(size,Image.ANTIALIAS)\n",
    "\n",
    "drawing = np.array(drawing)\n",
    "drawing = np.expand_dims(drawing, axis=0)\n",
    "drawing = np.expand_dims(drawing, axis=-1)\n",
    "\n",
    "prediction = model.predict(drawing)\n",
    "\n",
    "predicted_class = np.argmax(prediction)\n",
    "print(prediction)"
   ]
  },
  {
   "attachments": {},
   "cell_type": "markdown",
   "metadata": {},
   "source": [
    "Class predictor and output"
   ]
  },
  {
   "cell_type": "code",
   "execution_count": 11,
   "metadata": {},
   "outputs": [
    {
     "name": "stdout",
     "output_type": "stream",
     "text": [
      "15\n",
      "Nun\n"
     ]
    }
   ],
   "source": [
    "dict= {\n",
    "    0: \"Aleph\",\n",
    "    1: \"Bet\",\n",
    "    2: \"Gimel\",\n",
    "    3: \"Dalet\",\n",
    "    4: \"Hei\",\n",
    "    5: \"Vav\",\n",
    "    6: \"Zayin\",\n",
    "    7: \"Chet\",\n",
    "    8: \"Tet\",\n",
    "    9: \"Yod\",\n",
    "    10: \"Kaf\",\n",
    "    11: \"Kaf Sofit\",\n",
    "    12: \"Lamed\",\n",
    "    13: \"Mem\",\n",
    "    14: \"Mem Sofit\",\n",
    "    15: \"Nun\",\n",
    "    16: \"Nun Sofit\",\n",
    "    17: \"Samech\",\n",
    "    18: \"Ayin\",\n",
    "    19: \"Pei\",\n",
    "    20: \"Pei Sofit\",\n",
    "    21: \"Tsadei\",\n",
    "    22: \"Tsadei Sofit\",\n",
    "    23: \"Qof\",\n",
    "    24: \"Resh\",\n",
    "    25: \"Shin\",\n",
    "    26: \"Tav\",\n",
    "}\n",
    "\n",
    "print(predicted_class)\n",
    "print(dict[predicted_class])"
   ]
  }
 ],
 "metadata": {
  "kernelspec": {
   "display_name": "Python 3.8.0 64-bit",
   "language": "python",
   "name": "python3"
  },
  "language_info": {
   "codemirror_mode": {
    "name": "ipython",
    "version": 3
   },
   "file_extension": ".py",
   "mimetype": "text/x-python",
   "name": "python",
   "nbconvert_exporter": "python",
   "pygments_lexer": "ipython3",
   "version": "3.8.0"
  },
  "orig_nbformat": 4,
  "vscode": {
   "interpreter": {
    "hash": "aee8b7b246df8f9039afb4144a1f6fd8d2ca17a180786b69acc140d282b71a49"
   }
  }
 },
 "nbformat": 4,
 "nbformat_minor": 2
}
